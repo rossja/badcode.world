{
 "cells": [
  {
   "cell_type": "markdown",
   "id": "c3310e9a",
   "metadata": {},
   "source": [
    "# Loading the Data File\n",
    "\n",
    "The code below creates a function that parses a data file (provided as a paramater to the function) and returns the contents of the file back as a Python object (a dictionary, specifically). \n",
    "\n",
    "To do this, we need to use the Python `json` library, so we neeed to import that first, then we can create our function to use it."
   ]
  },
  {
   "cell_type": "code",
   "execution_count": 1,
   "id": "5c821336",
   "metadata": {},
   "outputs": [],
   "source": [
    "import json           # use the json library\n",
    "\n",
    "def loadData(file):   # define a function (called loadData) that takes a parameter named file\n",
    "  f = open(file, 'r') # open the file (specified in the parameter) in read-only mode\n",
    "  return json.load(f) # use the json library to load the file and return the data"
   ]
  },
  {
   "cell_type": "markdown",
   "id": "85e0476c",
   "metadata": {},
   "source": [
    "## Calling the function\n",
    "\n",
    "Now that the function has been created, let's call it using the code below. We set a variable named `dataFile` to the location of the data file on the server (which is `/data/urls.json`).\n",
    "Then we call the `loadData` function, using the variable name we created as a parameter.\n",
    "After the function runs, we just print out the data that it returned (which is stored in the variable named `urls`)."
   ]
  },
  {
   "cell_type": "code",
   "execution_count": 2,
   "id": "c0d36f00",
   "metadata": {},
   "outputs": [
    {
     "name": "stdout",
     "output_type": "stream",
     "text": [
      "{'utils': {'ip2country': 'https://api.ip2country.info/ip', 'randomuser': 'https://randomuser.me/api/', 'uspopulation': 'https://datausa.io/api/data?drilldowns=Nation&measures=Population'}, 'nasa': {'issloc': 'http://api.open-notify.org/iss-now.json', 'peopleinspace': 'http://api.open-notify.org/astros.json'}, 'fun': {'randomcat': 'https://cataas.com/cat?json=true', 'randomjoke': 'https://v2.jokeapi.dev/joke/Any?blacklistFlags=nsfw,racist,sexist,explicit'}}\n"
     ]
    }
   ],
   "source": [
    "dataFile = \"/data/urls.json\" # create a variable that points to the data file on the server\n",
    "urls = loadData(dataFile)    # call the loadData function, passing the dataFile as a parameter\n",
    "print (urls)                 # print out the results from the loadData function"
   ]
  },
  {
   "cell_type": "markdown",
   "id": "cb885950",
   "metadata": {},
   "source": [
    "## Accessing specific data\n",
    "\n",
    "Now that we have the data from the file (stored in `urls`), we can access specific data we want by using that. For example, if we want to get the URL for the NASA API that lets us get the current location of the International Space Station (ISS), we see that is stored in the data file in the `nasa` => `iss_loc` field. We can use that information to access the data (and store it as a new `apiUrl` variable), as shown below:"
   ]
  },
  {
   "cell_type": "code",
   "execution_count": 4,
   "id": "6028cb18",
   "metadata": {},
   "outputs": [
    {
     "name": "stdout",
     "output_type": "stream",
     "text": [
      "http://api.open-notify.org/iss-now.json\n"
     ]
    }
   ],
   "source": [
    "apiUrl = urls['nasa']['iss_loc'] # create a variable that refers to the specific data we want\n",
    "print (apiUrl)                   # print the value of the data (the url for the API)"
   ]
  },
  {
   "cell_type": "markdown",
   "id": "9d78db9a",
   "metadata": {},
   "source": [
    "# Using the API\n",
    "\n",
    "Let's create a function that takes a URL as a parameter, and makes an HTTP request to that URL and returns the data from it as a Python object. We use the `requests` library in this example."
   ]
  },
  {
   "cell_type": "code",
   "execution_count": 5,
   "id": "73a5b359",
   "metadata": {},
   "outputs": [],
   "source": [
    "import requests           # use the requests library\n",
    "\n",
    "def getApiData(url):      # create a function called getApiData that takes a url as a parameter\n",
    "  res = requests.get(url) # use the requests get() function to access the API url\n",
    "  return res.json()       # return the data from the web request"
   ]
  },
  {
   "cell_type": "markdown",
   "id": "a5fe8681",
   "metadata": {},
   "source": [
    "## Getting the API data\n",
    "\n",
    "Now that we have our function created, let's call it using the `apiUrl` variable we set earlier:"
   ]
  },
  {
   "cell_type": "code",
   "execution_count": 6,
   "id": "354811aa",
   "metadata": {},
   "outputs": [
    {
     "name": "stdout",
     "output_type": "stream",
     "text": [
      "{'timestamp': 1636568881, 'message': 'success', 'iss_position': {'latitude': '48.7612', 'longitude': '126.1685'}}\n"
     ]
    }
   ],
   "source": [
    "apiData = getApiData(apiUrl) # set a variable that contains the data from the API request\n",
    "print (apiData)              # print the value of the variable (the API data)"
   ]
  },
  {
   "cell_type": "markdown",
   "id": "c2026825",
   "metadata": {},
   "source": [
    "# Putting it all together\n",
    "\n",
    "Clearing out the documentation and creating a single, concise script gives us this:"
   ]
  },
  {
   "cell_type": "code",
   "execution_count": 7,
   "id": "b5eaef37",
   "metadata": {},
   "outputs": [
    {
     "name": "stdout",
     "output_type": "stream",
     "text": [
      "{'timestamp': 1636568895, 'message': 'success', 'iss_position': {'latitude': '48.4717', 'longitude': '127.3102'}}\n"
     ]
    }
   ],
   "source": [
    "import json\n",
    "import requests\n",
    "\n",
    "dataFile = \"/data/urls.json\"\n",
    "\n",
    "def loadData(file):\n",
    "    f = open(file, 'r')\n",
    "    return json.load(f)\n",
    "\n",
    "def getApiData(url):\n",
    "    res = requests.get(url)\n",
    "    return res.json()\n",
    "\n",
    "urls = loadData(dataFile)\n",
    "apiUrl = urls['nasa']['issloc']\n",
    "apiData = getApiData(apiUrl)\n",
    "\n",
    "print (apiData)"
   ]
  },
  {
   "cell_type": "code",
   "execution_count": null,
   "id": "0e63033a",
   "metadata": {},
   "outputs": [],
   "source": []
  }
 ],
 "metadata": {
  "kernelspec": {
   "display_name": "Python 3 (ipykernel)",
   "language": "python",
   "name": "python3"
  },
  "language_info": {
   "codemirror_mode": {
    "name": "ipython",
    "version": 3
   },
   "file_extension": ".py",
   "mimetype": "text/x-python",
   "name": "python",
   "nbconvert_exporter": "python",
   "pygments_lexer": "ipython3",
   "version": "3.9.7"
  }
 },
 "nbformat": 4,
 "nbformat_minor": 5
}
